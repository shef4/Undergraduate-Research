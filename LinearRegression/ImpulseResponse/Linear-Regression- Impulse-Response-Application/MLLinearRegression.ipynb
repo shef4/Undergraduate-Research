{
 "cells": [
  {
   "cell_type": "code",
   "execution_count": 1,
   "metadata": {},
   "outputs": [
    {
     "name": "stdout",
     "output_type": "stream",
     "text": [
      "Requirement already satisfied: tensorflow in c:\\users\\sefun\\anaconda3\\lib\\site-packages (1.14.0)\n",
      "Requirement already satisfied: numpy<2.0,>=1.14.5 in c:\\users\\sefun\\anaconda3\\lib\\site-packages (from tensorflow) (1.16.5)\n",
      "Requirement already satisfied: termcolor>=1.1.0 in c:\\users\\sefun\\anaconda3\\lib\\site-packages (from tensorflow) (1.1.0)\n",
      "Requirement already satisfied: six>=1.10.0 in c:\\users\\sefun\\anaconda3\\lib\\site-packages (from tensorflow) (1.12.0)\n",
      "Requirement already satisfied: wheel>=0.26 in c:\\users\\sefun\\anaconda3\\lib\\site-packages (from tensorflow) (0.33.6)\n",
      "Requirement already satisfied: protobuf>=3.6.1 in c:\\users\\sefun\\anaconda3\\lib\\site-packages (from tensorflow) (3.11.3)\n",
      "Requirement already satisfied: google-pasta>=0.1.6 in c:\\users\\sefun\\anaconda3\\lib\\site-packages (from tensorflow) (0.1.8)\n",
      "Requirement already satisfied: tensorboard<1.15.0,>=1.14.0 in c:\\users\\sefun\\anaconda3\\lib\\site-packages (from tensorflow) (1.14.0)\n",
      "Requirement already satisfied: tensorflow-estimator<1.15.0rc0,>=1.14.0rc0 in c:\\users\\sefun\\anaconda3\\lib\\site-packages (from tensorflow) (1.14.0)\n",
      "Requirement already satisfied: absl-py>=0.7.0 in c:\\users\\sefun\\anaconda3\\lib\\site-packages (from tensorflow) (0.9.0)\n",
      "Requirement already satisfied: wrapt>=1.11.1 in c:\\users\\sefun\\anaconda3\\lib\\site-packages (from tensorflow) (1.11.2)\n",
      "Requirement already satisfied: astor>=0.6.0 in c:\\users\\sefun\\anaconda3\\lib\\site-packages (from tensorflow) (0.8.1)\n",
      "Requirement already satisfied: keras-preprocessing>=1.0.5 in c:\\users\\sefun\\anaconda3\\lib\\site-packages (from tensorflow) (1.1.0)\n",
      "Requirement already satisfied: gast>=0.2.0 in c:\\users\\sefun\\anaconda3\\lib\\site-packages (from tensorflow) (0.2.2)\n",
      "Requirement already satisfied: grpcio>=1.8.6 in c:\\users\\sefun\\anaconda3\\lib\\site-packages (from tensorflow) (1.27.2)\n",
      "Requirement already satisfied: keras-applications>=1.0.6 in c:\\users\\sefun\\anaconda3\\lib\\site-packages (from tensorflow) (1.0.8)\n",
      "Requirement already satisfied: setuptools in c:\\users\\sefun\\anaconda3\\lib\\site-packages (from protobuf>=3.6.1->tensorflow) (41.4.0)\n",
      "Requirement already satisfied: markdown>=2.6.8 in c:\\users\\sefun\\anaconda3\\lib\\site-packages (from tensorboard<1.15.0,>=1.14.0->tensorflow) (3.2.1)\n",
      "Requirement already satisfied: werkzeug>=0.11.15 in c:\\users\\sefun\\anaconda3\\lib\\site-packages (from tensorboard<1.15.0,>=1.14.0->tensorflow) (0.16.0)\n",
      "Requirement already satisfied: h5py in c:\\users\\sefun\\anaconda3\\lib\\site-packages (from keras-applications>=1.0.6->tensorflow) (2.9.0)\n"
     ]
    }
   ],
   "source": [
    "!pip install -q seaborn\n",
    "!pip install tensorflow\n"
   ]
  },
  {
   "cell_type": "code",
   "execution_count": 133,
   "metadata": {},
   "outputs": [],
   "source": [
    "import pandas as pd  \n",
    "import numpy as np  \n",
    "import matplotlib.pyplot as plt  \n",
    "import seaborn as seabornInstance \n",
    "from sklearn.model_selection import train_test_split \n",
    "from sklearn.linear_model import LinearRegression\n",
    "from sklearn import metrics"
   ]
  },
  {
   "cell_type": "code",
   "execution_count": 134,
   "metadata": {},
   "outputs": [
    {
     "name": "stdout",
     "output_type": "stream",
     "text": [
      "[[0.    0.35  0.    0.005]\n",
      " [0.    0.35  0.5   0.005]\n",
      " [0.    0.35  1.    0.005]\n",
      " ...\n",
      " [3.    0.7   0.    0.955]\n",
      " [3.    0.7   0.    0.955]\n",
      " [3.    0.7   0.    0.955]]\n"
     ]
    }
   ],
   "source": [
    "dataset_fd = np.load('datasets/fullData.npy')\n",
    "dataset_fl = np.load('datasets/fullLabels.npy')\n",
    "print(dataset_fl)"
   ]
  },
  {
   "cell_type": "code",
   "execution_count": 135,
   "metadata": {},
   "outputs": [],
   "source": [
    "def createList(ini,fin):\n",
    "  return list(range(ini,fin+1))\n",
    "\n",
    "iniC = 1\n",
    "finC = 400  \n",
    "column_generator = createList(iniC,finC)\n",
    "column_nameS =list(map(str,column_generator))\n",
    "column_nameL = ['AAngle']"
   ]
  },
  {
   "cell_type": "code",
   "execution_count": 136,
   "metadata": {},
   "outputs": [
    {
     "data": {
      "text/html": [
       "<div>\n",
       "<style scoped>\n",
       "    .dataframe tbody tr th:only-of-type {\n",
       "        vertical-align: middle;\n",
       "    }\n",
       "\n",
       "    .dataframe tbody tr th {\n",
       "        vertical-align: top;\n",
       "    }\n",
       "\n",
       "    .dataframe thead th {\n",
       "        text-align: right;\n",
       "    }\n",
       "</style>\n",
       "<table border=\"1\" class=\"dataframe\">\n",
       "  <thead>\n",
       "    <tr style=\"text-align: right;\">\n",
       "      <th></th>\n",
       "      <th>1</th>\n",
       "      <th>2</th>\n",
       "      <th>3</th>\n",
       "      <th>4</th>\n",
       "      <th>5</th>\n",
       "      <th>6</th>\n",
       "      <th>7</th>\n",
       "      <th>8</th>\n",
       "      <th>9</th>\n",
       "      <th>10</th>\n",
       "      <th>...</th>\n",
       "      <th>392</th>\n",
       "      <th>393</th>\n",
       "      <th>394</th>\n",
       "      <th>395</th>\n",
       "      <th>396</th>\n",
       "      <th>397</th>\n",
       "      <th>398</th>\n",
       "      <th>399</th>\n",
       "      <th>400</th>\n",
       "      <th>AAngle</th>\n",
       "    </tr>\n",
       "  </thead>\n",
       "  <tbody>\n",
       "    <tr>\n",
       "      <td>60021</td>\n",
       "      <td>0.000131</td>\n",
       "      <td>-0.000863</td>\n",
       "      <td>-0.001084</td>\n",
       "      <td>-0.000268</td>\n",
       "      <td>0.000736</td>\n",
       "      <td>0.000901</td>\n",
       "      <td>0.000203</td>\n",
       "      <td>-0.000420</td>\n",
       "      <td>-0.000281</td>\n",
       "      <td>0.000229</td>\n",
       "      <td>...</td>\n",
       "      <td>-0.003217</td>\n",
       "      <td>-0.002835</td>\n",
       "      <td>-0.001402</td>\n",
       "      <td>0.000676</td>\n",
       "      <td>0.002539</td>\n",
       "      <td>0.003105</td>\n",
       "      <td>0.001942</td>\n",
       "      <td>-0.000203</td>\n",
       "      <td>-0.001912</td>\n",
       "      <td>0.955</td>\n",
       "    </tr>\n",
       "    <tr>\n",
       "      <td>60022</td>\n",
       "      <td>-0.000658</td>\n",
       "      <td>-0.000630</td>\n",
       "      <td>0.000085</td>\n",
       "      <td>0.000527</td>\n",
       "      <td>0.000088</td>\n",
       "      <td>-0.000685</td>\n",
       "      <td>-0.000726</td>\n",
       "      <td>0.000216</td>\n",
       "      <td>0.001182</td>\n",
       "      <td>0.001090</td>\n",
       "      <td>...</td>\n",
       "      <td>0.000457</td>\n",
       "      <td>-0.001369</td>\n",
       "      <td>-0.002544</td>\n",
       "      <td>-0.002129</td>\n",
       "      <td>-0.000216</td>\n",
       "      <td>0.001815</td>\n",
       "      <td>0.002387</td>\n",
       "      <td>0.001215</td>\n",
       "      <td>-0.000472</td>\n",
       "      <td>0.955</td>\n",
       "    </tr>\n",
       "    <tr>\n",
       "      <td>60023</td>\n",
       "      <td>-0.000148</td>\n",
       "      <td>0.000125</td>\n",
       "      <td>0.000121</td>\n",
       "      <td>-0.000384</td>\n",
       "      <td>-0.000964</td>\n",
       "      <td>-0.001003</td>\n",
       "      <td>-0.000300</td>\n",
       "      <td>0.000723</td>\n",
       "      <td>0.001350</td>\n",
       "      <td>0.001129</td>\n",
       "      <td>...</td>\n",
       "      <td>0.000508</td>\n",
       "      <td>-0.000339</td>\n",
       "      <td>-0.000793</td>\n",
       "      <td>-0.000860</td>\n",
       "      <td>-0.000638</td>\n",
       "      <td>-0.000142</td>\n",
       "      <td>0.000529</td>\n",
       "      <td>0.001044</td>\n",
       "      <td>0.001065</td>\n",
       "      <td>0.955</td>\n",
       "    </tr>\n",
       "    <tr>\n",
       "      <td>60024</td>\n",
       "      <td>0.000247</td>\n",
       "      <td>0.000923</td>\n",
       "      <td>0.000770</td>\n",
       "      <td>0.000110</td>\n",
       "      <td>-0.000297</td>\n",
       "      <td>-0.000171</td>\n",
       "      <td>0.000026</td>\n",
       "      <td>-0.000174</td>\n",
       "      <td>-0.000527</td>\n",
       "      <td>-0.000414</td>\n",
       "      <td>...</td>\n",
       "      <td>-0.001145</td>\n",
       "      <td>-0.002762</td>\n",
       "      <td>-0.002686</td>\n",
       "      <td>-0.001368</td>\n",
       "      <td>0.000268</td>\n",
       "      <td>0.001513</td>\n",
       "      <td>0.002008</td>\n",
       "      <td>0.001572</td>\n",
       "      <td>0.000266</td>\n",
       "      <td>0.955</td>\n",
       "    </tr>\n",
       "    <tr>\n",
       "      <td>60025</td>\n",
       "      <td>-0.000393</td>\n",
       "      <td>-0.000986</td>\n",
       "      <td>-0.000978</td>\n",
       "      <td>-0.000662</td>\n",
       "      <td>-0.000232</td>\n",
       "      <td>0.000307</td>\n",
       "      <td>0.000812</td>\n",
       "      <td>0.000894</td>\n",
       "      <td>0.000334</td>\n",
       "      <td>-0.000522</td>\n",
       "      <td>...</td>\n",
       "      <td>-0.001596</td>\n",
       "      <td>-0.003036</td>\n",
       "      <td>-0.002616</td>\n",
       "      <td>-0.000620</td>\n",
       "      <td>0.001522</td>\n",
       "      <td>0.002318</td>\n",
       "      <td>0.001430</td>\n",
       "      <td>-0.000193</td>\n",
       "      <td>-0.001312</td>\n",
       "      <td>0.955</td>\n",
       "    </tr>\n",
       "  </tbody>\n",
       "</table>\n",
       "<p>5 rows × 401 columns</p>\n",
       "</div>"
      ],
      "text/plain": [
       "              1         2         3         4         5         6         7  \\\n",
       "60021  0.000131 -0.000863 -0.001084 -0.000268  0.000736  0.000901  0.000203   \n",
       "60022 -0.000658 -0.000630  0.000085  0.000527  0.000088 -0.000685 -0.000726   \n",
       "60023 -0.000148  0.000125  0.000121 -0.000384 -0.000964 -0.001003 -0.000300   \n",
       "60024  0.000247  0.000923  0.000770  0.000110 -0.000297 -0.000171  0.000026   \n",
       "60025 -0.000393 -0.000986 -0.000978 -0.000662 -0.000232  0.000307  0.000812   \n",
       "\n",
       "              8         9        10  ...       392       393       394  \\\n",
       "60021 -0.000420 -0.000281  0.000229  ... -0.003217 -0.002835 -0.001402   \n",
       "60022  0.000216  0.001182  0.001090  ...  0.000457 -0.001369 -0.002544   \n",
       "60023  0.000723  0.001350  0.001129  ...  0.000508 -0.000339 -0.000793   \n",
       "60024 -0.000174 -0.000527 -0.000414  ... -0.001145 -0.002762 -0.002686   \n",
       "60025  0.000894  0.000334 -0.000522  ... -0.001596 -0.003036 -0.002616   \n",
       "\n",
       "            395       396       397       398       399       400  AAngle  \n",
       "60021  0.000676  0.002539  0.003105  0.001942 -0.000203 -0.001912   0.955  \n",
       "60022 -0.002129 -0.000216  0.001815  0.002387  0.001215 -0.000472   0.955  \n",
       "60023 -0.000860 -0.000638 -0.000142  0.000529  0.001044  0.001065   0.955  \n",
       "60024 -0.001368  0.000268  0.001513  0.002008  0.001572  0.000266   0.955  \n",
       "60025 -0.000620  0.001522  0.002318  0.001430 -0.000193 -0.001312   0.955  \n",
       "\n",
       "[5 rows x 401 columns]"
      ]
     },
     "execution_count": 136,
     "metadata": {},
     "output_type": "execute_result"
    }
   ],
   "source": [
    "\n",
    "dfS = pd.DataFrame(dataset_fd,\n",
    "                  columns = column_nameS)\n",
    "dfL  = pd.DataFrame(dataset_fl[:,3],\n",
    "                  columns = column_nameL)\n",
    "df = pd.concat([dfS, dfL], axis=1, sort=False)\n",
    "                  \n",
    "dataset = df.copy()\n",
    "dataset.tail()"
   ]
  },
  {
   "cell_type": "code",
   "execution_count": 137,
   "metadata": {},
   "outputs": [],
   "source": [
    "X = dataset[column_nameS].values\n",
    "y = dataset['AAngle'].values"
   ]
  },
  {
   "cell_type": "code",
   "execution_count": 138,
   "metadata": {
    "scrolled": true
   },
   "outputs": [
    {
     "data": {
      "text/plain": [
       "<matplotlib.axes._subplots.AxesSubplot at 0x29dc8bf5408>"
      ]
     },
     "execution_count": 138,
     "metadata": {},
     "output_type": "execute_result"
    },
    {
     "data": {
      "image/png": "[encoded data removed]",
      "text/plain": [
       "<Figure size 1080x720 with 1 Axes>"
      ]
     },
     "metadata": {
      "needs_background": "light"
     },
     "output_type": "display_data"
    }
   ],
   "source": [
    "plt.figure(figsize=(15,10))\n",
    "plt.tight_layout()\n",
    "seabornInstance.distplot(dataset['AAngle'])"
   ]
  },
  {
   "cell_type": "code",
   "execution_count": 139,
   "metadata": {},
   "outputs": [],
   "source": [
    "X_train, X_test, y_train, y_test = train_test_split(X, y, test_size=0.2, random_state=0)"
   ]
  },
  {
   "cell_type": "code",
   "execution_count": 140,
   "metadata": {},
   "outputs": [
    {
     "data": {
      "text/plain": [
       "LinearRegression(copy_X=True, fit_intercept=True, n_jobs=None, normalize=False)"
      ]
     },
     "execution_count": 140,
     "metadata": {},
     "output_type": "execute_result"
    }
   ],
   "source": [
    "regressor = LinearRegression()  \n",
    "regressor.fit(X_train, y_train)"
   ]
  },
  {
   "cell_type": "code",
   "execution_count": 142,
   "metadata": {},
   "outputs": [],
   "source": [
    "y_pred = regressor.predict(X_test)"
   ]
  },
  {
   "cell_type": "code",
   "execution_count": 145,
   "metadata": {},
   "outputs": [
    {
     "data": {
      "text/html": [
       "<div>\n",
       "<style scoped>\n",
       "    .dataframe tbody tr th:only-of-type {\n",
       "        vertical-align: middle;\n",
       "    }\n",
       "\n",
       "    .dataframe tbody tr th {\n",
       "        vertical-align: top;\n",
       "    }\n",
       "\n",
       "    .dataframe thead th {\n",
       "        text-align: right;\n",
       "    }\n",
       "</style>\n",
       "<table border=\"1\" class=\"dataframe\">\n",
       "  <thead>\n",
       "    <tr style=\"text-align: right;\">\n",
       "      <th></th>\n",
       "      <th>Actual</th>\n",
       "      <th>Predicted</th>\n",
       "    </tr>\n",
       "  </thead>\n",
       "  <tbody>\n",
       "    <tr>\n",
       "      <td>0</td>\n",
       "      <td>0.085</td>\n",
       "      <td>0.425573</td>\n",
       "    </tr>\n",
       "    <tr>\n",
       "      <td>1</td>\n",
       "      <td>0.560</td>\n",
       "      <td>0.438710</td>\n",
       "    </tr>\n",
       "    <tr>\n",
       "      <td>2</td>\n",
       "      <td>0.695</td>\n",
       "      <td>0.446436</td>\n",
       "    </tr>\n",
       "    <tr>\n",
       "      <td>3</td>\n",
       "      <td>0.865</td>\n",
       "      <td>0.500572</td>\n",
       "    </tr>\n",
       "    <tr>\n",
       "      <td>4</td>\n",
       "      <td>0.015</td>\n",
       "      <td>0.440175</td>\n",
       "    </tr>\n",
       "    <tr>\n",
       "      <td>5</td>\n",
       "      <td>0.895</td>\n",
       "      <td>0.434970</td>\n",
       "    </tr>\n",
       "    <tr>\n",
       "      <td>6</td>\n",
       "      <td>0.225</td>\n",
       "      <td>0.550464</td>\n",
       "    </tr>\n",
       "    <tr>\n",
       "      <td>7</td>\n",
       "      <td>0.635</td>\n",
       "      <td>0.464754</td>\n",
       "    </tr>\n",
       "    <tr>\n",
       "      <td>8</td>\n",
       "      <td>0.885</td>\n",
       "      <td>0.501133</td>\n",
       "    </tr>\n",
       "    <tr>\n",
       "      <td>9</td>\n",
       "      <td>0.325</td>\n",
       "      <td>0.472724</td>\n",
       "    </tr>\n",
       "    <tr>\n",
       "      <td>10</td>\n",
       "      <td>0.560</td>\n",
       "      <td>0.430341</td>\n",
       "    </tr>\n",
       "    <tr>\n",
       "      <td>11</td>\n",
       "      <td>0.475</td>\n",
       "      <td>0.493595</td>\n",
       "    </tr>\n",
       "    <tr>\n",
       "      <td>12</td>\n",
       "      <td>0.620</td>\n",
       "      <td>0.503928</td>\n",
       "    </tr>\n",
       "    <tr>\n",
       "      <td>13</td>\n",
       "      <td>0.890</td>\n",
       "      <td>0.507136</td>\n",
       "    </tr>\n",
       "    <tr>\n",
       "      <td>14</td>\n",
       "      <td>0.600</td>\n",
       "      <td>0.521393</td>\n",
       "    </tr>\n",
       "    <tr>\n",
       "      <td>15</td>\n",
       "      <td>0.390</td>\n",
       "      <td>0.449466</td>\n",
       "    </tr>\n",
       "    <tr>\n",
       "      <td>16</td>\n",
       "      <td>0.845</td>\n",
       "      <td>0.512859</td>\n",
       "    </tr>\n",
       "    <tr>\n",
       "      <td>17</td>\n",
       "      <td>0.145</td>\n",
       "      <td>0.453927</td>\n",
       "    </tr>\n",
       "    <tr>\n",
       "      <td>18</td>\n",
       "      <td>0.820</td>\n",
       "      <td>0.471031</td>\n",
       "    </tr>\n",
       "    <tr>\n",
       "      <td>19</td>\n",
       "      <td>0.215</td>\n",
       "      <td>0.490338</td>\n",
       "    </tr>\n",
       "    <tr>\n",
       "      <td>20</td>\n",
       "      <td>0.975</td>\n",
       "      <td>0.458970</td>\n",
       "    </tr>\n",
       "    <tr>\n",
       "      <td>21</td>\n",
       "      <td>0.420</td>\n",
       "      <td>0.448971</td>\n",
       "    </tr>\n",
       "    <tr>\n",
       "      <td>22</td>\n",
       "      <td>0.390</td>\n",
       "      <td>0.480626</td>\n",
       "    </tr>\n",
       "    <tr>\n",
       "      <td>23</td>\n",
       "      <td>0.720</td>\n",
       "      <td>0.483008</td>\n",
       "    </tr>\n",
       "    <tr>\n",
       "      <td>24</td>\n",
       "      <td>0.880</td>\n",
       "      <td>0.541760</td>\n",
       "    </tr>\n",
       "  </tbody>\n",
       "</table>\n",
       "</div>"
      ],
      "text/plain": [
       "    Actual  Predicted\n",
       "0    0.085   0.425573\n",
       "1    0.560   0.438710\n",
       "2    0.695   0.446436\n",
       "3    0.865   0.500572\n",
       "4    0.015   0.440175\n",
       "5    0.895   0.434970\n",
       "6    0.225   0.550464\n",
       "7    0.635   0.464754\n",
       "8    0.885   0.501133\n",
       "9    0.325   0.472724\n",
       "10   0.560   0.430341\n",
       "11   0.475   0.493595\n",
       "12   0.620   0.503928\n",
       "13   0.890   0.507136\n",
       "14   0.600   0.521393\n",
       "15   0.390   0.449466\n",
       "16   0.845   0.512859\n",
       "17   0.145   0.453927\n",
       "18   0.820   0.471031\n",
       "19   0.215   0.490338\n",
       "20   0.975   0.458970\n",
       "21   0.420   0.448971\n",
       "22   0.390   0.480626\n",
       "23   0.720   0.483008\n",
       "24   0.880   0.541760"
      ]
     },
     "execution_count": 145,
     "metadata": {},
     "output_type": "execute_result"
    }
   ],
   "source": [
    "df = pd.DataFrame({'Actual': y_test, 'Predicted': y_pred})\n",
    "df1 = df.head(25)\n",
    "df1"
   ]
  },
  {
   "cell_type": "code",
   "execution_count": 147,
   "metadata": {
    "scrolled": false
   },
   "outputs": [
    {
     "data": {
      "image/png": "[encoded data removed]",
      "text/plain": [
       "<Figure size 720x576 with 1 Axes>"
      ]
     },
     "metadata": {
      "needs_background": "light"
     },
     "output_type": "display_data"
    }
   ],
   "source": [
    "df1.plot(kind='bar',figsize=(10,8))\n",
    "plt.grid(which='major', linestyle='-', linewidth='0.5', color='green')\n",
    "plt.grid(which='minor', linestyle=':', linewidth='0.5', color='black')\n",
    "plt.show()"
   ]
  },
  {
   "cell_type": "code",
   "execution_count": 148,
   "metadata": {},
   "outputs": [
    {
     "name": "stdout",
     "output_type": "stream",
     "text": [
      "Mean Absolute Error: 0.2473782703865056\n",
      "Mean Squared Error: 0.08149574567819494\n",
      "Root Mean Squared Error: 0.2854745972555088\n"
     ]
    }
   ],
   "source": [
    "print('Mean Absolute Error:', metrics.mean_absolute_error(y_test, y_pred))  \n",
    "print('Mean Squared Error:', metrics.mean_squared_error(y_test, y_pred))  \n",
    "print('Root Mean Squared Error:', np.sqrt(metrics.mean_squared_error(y_test, y_pred)))"
   ]
  },
  {
   "cell_type": "code",
   "execution_count": 45,
   "metadata": {},
   "outputs": [],
   "source": [
    "\n",
    "def build_model():\n",
    "  model = keras.Sequential([\n",
    "    layers.Dense(64, activation='relu', input_shape=[len(train_dataset.keys())]),\n",
    "    layers.Dense(64, activation='relu'),\n",
    "    layers.Dense(1)\n",
    "  ])\n",
    "\n",
    "  optimizer = tf.keras.optimizers.RMSprop(0.001)\n",
    "\n",
    "  model.compile(loss='mse',\n",
    "                optimizer=optimizer,\n",
    "                metrics=['mae', 'mse'])\n",
    "  return model"
   ]
  },
  {
   "cell_type": "code",
   "execution_count": 46,
   "metadata": {},
   "outputs": [],
   "source": [
    "model = build_model()"
   ]
  },
  {
   "cell_type": "code",
   "execution_count": 47,
   "metadata": {},
   "outputs": [
    {
     "name": "stdout",
     "output_type": "stream",
     "text": [
      "Model: \"sequential_1\"\n",
      "_________________________________________________________________\n",
      "Layer (type)                 Output Shape              Param #   \n",
      "=================================================================\n",
      "dense_3 (Dense)              (None, 64)                25792     \n",
      "_________________________________________________________________\n",
      "dense_4 (Dense)              (None, 64)                4160      \n",
      "_________________________________________________________________\n",
      "dense_5 (Dense)              (None, 1)                 65        \n",
      "=================================================================\n",
      "Total params: 30,017\n",
      "Trainable params: 30,017\n",
      "Non-trainable params: 0\n",
      "_________________________________________________________________\n"
     ]
    }
   ],
   "source": [
    "model.summary()"
   ]
  },
  {
   "cell_type": "code",
   "execution_count": 48,
   "metadata": {},
   "outputs": [
    {
     "data": {
      "text/plain": [
       "array([[nan],\n",
       "       [nan],\n",
       "       [nan],\n",
       "       [nan],\n",
       "       [nan],\n",
       "       [nan],\n",
       "       [nan],\n",
       "       [nan],\n",
       "       [nan],\n",
       "       [nan]], dtype=float32)"
      ]
     },
     "execution_count": 48,
     "metadata": {},
     "output_type": "execute_result"
    }
   ],
   "source": [
    "example_batch = normed_train_data[:10]\n",
    "example_result = model.predict(example_batch)\n",
    "example_result"
   ]
  },
  {
   "cell_type": "code",
   "execution_count": 61,
   "metadata": {},
   "outputs": [],
   "source": []
  },
  {
   "cell_type": "code",
   "execution_count": 74,
   "metadata": {},
   "outputs": [
    {
     "name": "stdout",
     "output_type": "stream",
     "text": [
      "dict_keys(['loss', 'mean_absolute_error', 'mean_squared_error', 'val_loss', 'val_mean_absolute_error', 'val_mean_squared_error'])\n"
     ]
    }
   ],
   "source": [
    "\n",
    "\n",
    "EPOCHS = 100\n",
    "\n",
    "history = model.fit(\n",
    "  normed_train_data, train_labels,\n",
    "  epochs=EPOCHS, validation_split = 0.2, batch_size=10, verbose=0)\n",
    "print(history.history.keys())"
   ]
  },
  {
   "cell_type": "code",
   "execution_count": 80,
   "metadata": {},
   "outputs": [
    {
     "data": {
      "image/png": "[encoded data removed]",
      "text/plain": [
       "<Figure size 432x288 with 1 Axes>"
      ]
     },
     "metadata": {
      "needs_background": "light"
     },
     "output_type": "display_data"
    }
   ],
   "source": [
    "plt.plot(history.history['mean_absolute_error'])\n",
    "plt.plot(history.history['val_mean_absolute_error'])\n",
    "plt.title('model accuracy')\n",
    "plt.ylabel('mean_absolute_error')\n",
    "plt.xlabel('epoch')\n",
    "plt.legend(['train', 'test'], loc='upper left')\n",
    "plt.show()"
   ]
  },
  {
   "cell_type": "code",
   "execution_count": 78,
   "metadata": {},
   "outputs": [
    {
     "data": {
      "image/png": "[encoded data removed]",
      "text/plain": [
       "<Figure size 432x288 with 1 Axes>"
      ]
     },
     "metadata": {
      "needs_background": "light"
     },
     "output_type": "display_data"
    }
   ],
   "source": [
    "plt.plot(history.history['loss'])\n",
    "plt.plot(history.history['val_loss'])\n",
    "plt.title('model loss')\n",
    "plt.ylabel('loss')\n",
    "plt.xlabel('epoch')\n",
    "plt.legend(['train', 'test'], loc='upper left')\n",
    "plt.show()"
   ]
  },
  {
   "cell_type": "code",
   "execution_count": null,
   "metadata": {},
   "outputs": [],
   "source": []
  }
 ],
 "metadata": {
  "kernelspec": {
   "display_name": "Python 3.7.4 64-bit ('base': conda)",
   "language": "python",
   "name": "python37464bitbasecondaf5ff2f21c04f4e35a0f9a3575b17121e"
  },
  "language_info": {
   "codemirror_mode": {
    "name": "ipython",
    "version": 3
   },
   "file_extension": ".py",
   "mimetype": "text/x-python",
   "name": "python",
   "nbconvert_exporter": "python",
   "pygments_lexer": "ipython3",
   "version": "3.7.4"
  }
 },
 "nbformat": 4,
 "nbformat_minor": 2
}
