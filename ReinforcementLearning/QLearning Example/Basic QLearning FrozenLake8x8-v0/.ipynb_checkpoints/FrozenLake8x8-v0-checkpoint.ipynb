{
 "cells": [
  {
   "cell_type": "code",
   "execution_count": 6,
   "metadata": {},
   "outputs": [
    {
     "name": "stdout",
     "output_type": "stream",
     "text": [
      "Collecting gym\n",
      "  Downloading gym-0.17.2.tar.gz (1.6 MB)\n",
      "Requirement already satisfied: scipy in c:\\users\\sefun\\anaconda3\\lib\\site-packages (from gym) (1.4.1)\n",
      "Requirement already satisfied: numpy>=1.10.4 in c:\\users\\sefun\\anaconda3\\lib\\site-packages (from gym) (1.18.4)\n",
      "Collecting pyglet<=1.5.0,>=1.4.0\n",
      "  Downloading pyglet-1.5.0-py2.py3-none-any.whl (1.0 MB)\n",
      "Requirement already satisfied: cloudpickle<1.4.0,>=1.2.0 in c:\\users\\sefun\\anaconda3\\lib\\site-packages (from gym) (1.3.0)\n",
      "Requirement already satisfied: future in c:\\users\\sefun\\anaconda3\\lib\\site-packages (from pyglet<=1.5.0,>=1.4.0->gym) (0.18.2)\n",
      "Building wheels for collected packages: gym\n",
      "  Building wheel for gym (setup.py): started\n",
      "  Building wheel for gym (setup.py): finished with status 'done'\n",
      "  Created wheel for gym: filename=gym-0.17.2-py3-none-any.whl size=1650896 sha256=712d935d1f0fcac70ca9777a63894f3a149b686db307be4e56ef5079e2293758\n",
      "  Stored in directory: c:\\users\\sefun\\appdata\\local\\pip\\cache\\wheels\\18\\e1\\58\\89a2aa24e6c2cc800204fc02010612afdf200926c4d6bfe315\n",
      "Successfully built gym\n",
      "Installing collected packages: pyglet, gym\n",
      "Successfully installed gym-0.17.2 pyglet-1.5.0\n",
      "Note: you may need to restart the kernel to use updated packages.\n"
     ]
    }
   ],
   "source": [
    "pip install gym "
   ]
  },
  {
   "cell_type": "code",
   "execution_count": 1,
   "metadata": {},
   "outputs": [],
   "source": [
    "import gym\n",
    "import numpy as np "
   ]
  },
  {
   "cell_type": "code",
   "execution_count": 2,
   "metadata": {},
   "outputs": [],
   "source": [
    "#1. Load Enviroment and Q-table\n",
    "\n",
    "env = gym.make('FrozenLake8x8-v0')\n",
    "#Q is a 2D arry numObservations=numRow numAction=numColomn\n",
    "Q = np.zeros([env.observation_space.n,env.action_space.n])"
   ]
  },
  {
   "cell_type": "code",
   "execution_count": 3,
   "metadata": {},
   "outputs": [],
   "source": [
    "#2. Parameters of Q-learning\n",
    "\n",
    "eta = .628\n",
    "g = .9\n",
    "episodes = 5000\n",
    "rev_list = [] # rewards per episode calculate"
   ]
  },
  {
   "cell_type": "code",
   "execution_count": 7,
   "metadata": {},
   "outputs": [
    {
     "ename": "SyntaxError",
     "evalue": "Missing parentheses in call to 'print'. Did you mean print(\"Final Values Q\")? (<ipython-input-7-a38b3ac54d4a>, line 31)",
     "output_type": "error",
     "traceback": [
      "\u001b[1;36m  File \u001b[1;32m\"<ipython-input-7-a38b3ac54d4a>\"\u001b[1;36m, line \u001b[1;32m31\u001b[0m\n\u001b[1;33m    print \"Final Values Q\"\u001b[0m\n\u001b[1;37m                         ^\u001b[0m\n\u001b[1;31mSyntaxError\u001b[0m\u001b[1;31m:\u001b[0m Missing parentheses in call to 'print'. Did you mean print(\"Final Values Q\")?\n"
     ]
    }
   ],
   "source": [
    "#3. Q-learning Algorithm\n",
    "\n",
    "for i in range(episodes):\n",
    "    \n",
    "    # Reset enviroment\n",
    "    s= env.reset()\n",
    "    rAll = 0\n",
    "    d = False\n",
    "    j = 0\n",
    "    \n",
    "    # Q-Table Learning algorithm\n",
    "    while j < 99:\n",
    "        env.render()\n",
    "        j += 1\n",
    "        # select action from Q\n",
    "        a = np.argmax(Q[s,:] + np.random.randn(1,env.action_space.n)*(1./(i+1)))\n",
    "        # get new state & reward from enviroment\n",
    "        s1,r,d,_ = env.step(a)\n",
    "        # update Q-Table with new knowledge\n",
    "        Q[s,a] = Q[s,a] + eta*(r + g*np.max(Q[s1,:])-Q[s,a])\n",
    "        \n",
    "        rAll += r\n",
    "        s = s1\n",
    "        if d==True:\n",
    "            break\n",
    "    rev_list.append(rAll)\n",
    "    env.render()\n",
    "\n",
    "rewardSum = \"Reward Sum on all episodes \" + str(sum(rev_list)/ep)\n",
    "print(rewardSum)\n",
    "print(\"Final Values Q\")\n",
    "print(Q)"
   ]
  },
  {
   "cell_type": "code",
   "execution_count": null,
   "metadata": {},
   "outputs": [],
   "source": []
  }
 ],
 "metadata": {
  "kernelspec": {
   "display_name": "Python 3",
   "language": "python",
   "name": "python3"
  },
  "language_info": {
   "codemirror_mode": {
    "name": "ipython",
    "version": 3
   },
   "file_extension": ".py",
   "mimetype": "text/x-python",
   "name": "python",
   "nbconvert_exporter": "python",
   "pygments_lexer": "ipython3",
   "version": "3.7.6"
  }
 },
 "nbformat": 4,
 "nbformat_minor": 4
}
